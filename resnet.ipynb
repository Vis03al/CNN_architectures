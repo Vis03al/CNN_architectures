{
  "nbformat": 4,
  "nbformat_minor": 0,
  "metadata": {
    "colab": {
      "provenance": [],
      "collapsed_sections": []
    },
    "kernelspec": {
      "name": "python3",
      "display_name": "Python 3"
    },
    "language_info": {
      "name": "python"
    },
    "accelerator": "GPU",
    "widgets": {
      "application/vnd.jupyter.widget-state+json": {
        "5812321371a044aea333c4e68d572809": {
          "model_module": "@jupyter-widgets/controls",
          "model_name": "HBoxModel",
          "model_module_version": "1.5.0",
          "state": {
            "_dom_classes": [],
            "_model_module": "@jupyter-widgets/controls",
            "_model_module_version": "1.5.0",
            "_model_name": "HBoxModel",
            "_view_count": null,
            "_view_module": "@jupyter-widgets/controls",
            "_view_module_version": "1.5.0",
            "_view_name": "HBoxView",
            "box_style": "",
            "children": [
              "IPY_MODEL_63ac16bda8ef4b7db191bac22258b0cc",
              "IPY_MODEL_ed742a351f1349669375d179a3e40c7e",
              "IPY_MODEL_d40c7a4f38154135bd18aaff69edacf2"
            ],
            "layout": "IPY_MODEL_decbb8355cf24ef494d4fa4f3295e7d1"
          }
        },
        "63ac16bda8ef4b7db191bac22258b0cc": {
          "model_module": "@jupyter-widgets/controls",
          "model_name": "HTMLModel",
          "model_module_version": "1.5.0",
          "state": {
            "_dom_classes": [],
            "_model_module": "@jupyter-widgets/controls",
            "_model_module_version": "1.5.0",
            "_model_name": "HTMLModel",
            "_view_count": null,
            "_view_module": "@jupyter-widgets/controls",
            "_view_module_version": "1.5.0",
            "_view_name": "HTMLView",
            "description": "",
            "description_tooltip": null,
            "layout": "IPY_MODEL_68a72be4127947c9a95abe83e072ac01",
            "placeholder": "​",
            "style": "IPY_MODEL_77011af57cc84246b318d5e46d6f29ed",
            "value": "100%"
          }
        },
        "ed742a351f1349669375d179a3e40c7e": {
          "model_module": "@jupyter-widgets/controls",
          "model_name": "FloatProgressModel",
          "model_module_version": "1.5.0",
          "state": {
            "_dom_classes": [],
            "_model_module": "@jupyter-widgets/controls",
            "_model_module_version": "1.5.0",
            "_model_name": "FloatProgressModel",
            "_view_count": null,
            "_view_module": "@jupyter-widgets/controls",
            "_view_module_version": "1.5.0",
            "_view_name": "ProgressView",
            "bar_style": "success",
            "description": "",
            "description_tooltip": null,
            "layout": "IPY_MODEL_bdc6acf1ffba483c8e0bd59917c521c2",
            "max": 170498071,
            "min": 0,
            "orientation": "horizontal",
            "style": "IPY_MODEL_4f3052086136432b9fe27bbb0f519d8a",
            "value": 170498071
          }
        },
        "d40c7a4f38154135bd18aaff69edacf2": {
          "model_module": "@jupyter-widgets/controls",
          "model_name": "HTMLModel",
          "model_module_version": "1.5.0",
          "state": {
            "_dom_classes": [],
            "_model_module": "@jupyter-widgets/controls",
            "_model_module_version": "1.5.0",
            "_model_name": "HTMLModel",
            "_view_count": null,
            "_view_module": "@jupyter-widgets/controls",
            "_view_module_version": "1.5.0",
            "_view_name": "HTMLView",
            "description": "",
            "description_tooltip": null,
            "layout": "IPY_MODEL_da889ee1235e459794dbaac14780884e",
            "placeholder": "​",
            "style": "IPY_MODEL_75eddaa10c53461290f2c9f4bbed290a",
            "value": " 170498071/170498071 [00:01&lt;00:00, 91730124.67it/s]"
          }
        },
        "decbb8355cf24ef494d4fa4f3295e7d1": {
          "model_module": "@jupyter-widgets/base",
          "model_name": "LayoutModel",
          "model_module_version": "1.2.0",
          "state": {
            "_model_module": "@jupyter-widgets/base",
            "_model_module_version": "1.2.0",
            "_model_name": "LayoutModel",
            "_view_count": null,
            "_view_module": "@jupyter-widgets/base",
            "_view_module_version": "1.2.0",
            "_view_name": "LayoutView",
            "align_content": null,
            "align_items": null,
            "align_self": null,
            "border": null,
            "bottom": null,
            "display": null,
            "flex": null,
            "flex_flow": null,
            "grid_area": null,
            "grid_auto_columns": null,
            "grid_auto_flow": null,
            "grid_auto_rows": null,
            "grid_column": null,
            "grid_gap": null,
            "grid_row": null,
            "grid_template_areas": null,
            "grid_template_columns": null,
            "grid_template_rows": null,
            "height": null,
            "justify_content": null,
            "justify_items": null,
            "left": null,
            "margin": null,
            "max_height": null,
            "max_width": null,
            "min_height": null,
            "min_width": null,
            "object_fit": null,
            "object_position": null,
            "order": null,
            "overflow": null,
            "overflow_x": null,
            "overflow_y": null,
            "padding": null,
            "right": null,
            "top": null,
            "visibility": null,
            "width": null
          }
        },
        "68a72be4127947c9a95abe83e072ac01": {
          "model_module": "@jupyter-widgets/base",
          "model_name": "LayoutModel",
          "model_module_version": "1.2.0",
          "state": {
            "_model_module": "@jupyter-widgets/base",
            "_model_module_version": "1.2.0",
            "_model_name": "LayoutModel",
            "_view_count": null,
            "_view_module": "@jupyter-widgets/base",
            "_view_module_version": "1.2.0",
            "_view_name": "LayoutView",
            "align_content": null,
            "align_items": null,
            "align_self": null,
            "border": null,
            "bottom": null,
            "display": null,
            "flex": null,
            "flex_flow": null,
            "grid_area": null,
            "grid_auto_columns": null,
            "grid_auto_flow": null,
            "grid_auto_rows": null,
            "grid_column": null,
            "grid_gap": null,
            "grid_row": null,
            "grid_template_areas": null,
            "grid_template_columns": null,
            "grid_template_rows": null,
            "height": null,
            "justify_content": null,
            "justify_items": null,
            "left": null,
            "margin": null,
            "max_height": null,
            "max_width": null,
            "min_height": null,
            "min_width": null,
            "object_fit": null,
            "object_position": null,
            "order": null,
            "overflow": null,
            "overflow_x": null,
            "overflow_y": null,
            "padding": null,
            "right": null,
            "top": null,
            "visibility": null,
            "width": null
          }
        },
        "77011af57cc84246b318d5e46d6f29ed": {
          "model_module": "@jupyter-widgets/controls",
          "model_name": "DescriptionStyleModel",
          "model_module_version": "1.5.0",
          "state": {
            "_model_module": "@jupyter-widgets/controls",
            "_model_module_version": "1.5.0",
            "_model_name": "DescriptionStyleModel",
            "_view_count": null,
            "_view_module": "@jupyter-widgets/base",
            "_view_module_version": "1.2.0",
            "_view_name": "StyleView",
            "description_width": ""
          }
        },
        "bdc6acf1ffba483c8e0bd59917c521c2": {
          "model_module": "@jupyter-widgets/base",
          "model_name": "LayoutModel",
          "model_module_version": "1.2.0",
          "state": {
            "_model_module": "@jupyter-widgets/base",
            "_model_module_version": "1.2.0",
            "_model_name": "LayoutModel",
            "_view_count": null,
            "_view_module": "@jupyter-widgets/base",
            "_view_module_version": "1.2.0",
            "_view_name": "LayoutView",
            "align_content": null,
            "align_items": null,
            "align_self": null,
            "border": null,
            "bottom": null,
            "display": null,
            "flex": null,
            "flex_flow": null,
            "grid_area": null,
            "grid_auto_columns": null,
            "grid_auto_flow": null,
            "grid_auto_rows": null,
            "grid_column": null,
            "grid_gap": null,
            "grid_row": null,
            "grid_template_areas": null,
            "grid_template_columns": null,
            "grid_template_rows": null,
            "height": null,
            "justify_content": null,
            "justify_items": null,
            "left": null,
            "margin": null,
            "max_height": null,
            "max_width": null,
            "min_height": null,
            "min_width": null,
            "object_fit": null,
            "object_position": null,
            "order": null,
            "overflow": null,
            "overflow_x": null,
            "overflow_y": null,
            "padding": null,
            "right": null,
            "top": null,
            "visibility": null,
            "width": null
          }
        },
        "4f3052086136432b9fe27bbb0f519d8a": {
          "model_module": "@jupyter-widgets/controls",
          "model_name": "ProgressStyleModel",
          "model_module_version": "1.5.0",
          "state": {
            "_model_module": "@jupyter-widgets/controls",
            "_model_module_version": "1.5.0",
            "_model_name": "ProgressStyleModel",
            "_view_count": null,
            "_view_module": "@jupyter-widgets/base",
            "_view_module_version": "1.2.0",
            "_view_name": "StyleView",
            "bar_color": null,
            "description_width": ""
          }
        },
        "da889ee1235e459794dbaac14780884e": {
          "model_module": "@jupyter-widgets/base",
          "model_name": "LayoutModel",
          "model_module_version": "1.2.0",
          "state": {
            "_model_module": "@jupyter-widgets/base",
            "_model_module_version": "1.2.0",
            "_model_name": "LayoutModel",
            "_view_count": null,
            "_view_module": "@jupyter-widgets/base",
            "_view_module_version": "1.2.0",
            "_view_name": "LayoutView",
            "align_content": null,
            "align_items": null,
            "align_self": null,
            "border": null,
            "bottom": null,
            "display": null,
            "flex": null,
            "flex_flow": null,
            "grid_area": null,
            "grid_auto_columns": null,
            "grid_auto_flow": null,
            "grid_auto_rows": null,
            "grid_column": null,
            "grid_gap": null,
            "grid_row": null,
            "grid_template_areas": null,
            "grid_template_columns": null,
            "grid_template_rows": null,
            "height": null,
            "justify_content": null,
            "justify_items": null,
            "left": null,
            "margin": null,
            "max_height": null,
            "max_width": null,
            "min_height": null,
            "min_width": null,
            "object_fit": null,
            "object_position": null,
            "order": null,
            "overflow": null,
            "overflow_x": null,
            "overflow_y": null,
            "padding": null,
            "right": null,
            "top": null,
            "visibility": null,
            "width": null
          }
        },
        "75eddaa10c53461290f2c9f4bbed290a": {
          "model_module": "@jupyter-widgets/controls",
          "model_name": "DescriptionStyleModel",
          "model_module_version": "1.5.0",
          "state": {
            "_model_module": "@jupyter-widgets/controls",
            "_model_module_version": "1.5.0",
            "_model_name": "DescriptionStyleModel",
            "_view_count": null,
            "_view_module": "@jupyter-widgets/base",
            "_view_module_version": "1.2.0",
            "_view_name": "StyleView",
            "description_width": ""
          }
        }
      }
    }
  },
  "cells": [
    {
      "cell_type": "markdown",
      "source": [
        "# 1.IMPORTING NECESSARY LIBRARIES"
      ],
      "metadata": {
        "id": "iiClz5GAKH9c"
      }
    },
    {
      "cell_type": "code",
      "execution_count": null,
      "metadata": {
        "id": "8Qvbf0mE8IZm"
      },
      "outputs": [],
      "source": [
        "import torch\n",
        "import torch.nn as nn\n",
        "import torchvision\n",
        "import torchvision.transforms as transforms\n",
        "from torch.utils.data import random_split, DataLoader\n",
        "import matplotlib.pyplot as plt\n",
        "import numpy as np"
      ]
    },
    {
      "cell_type": "code",
      "source": [
        "device = torch.device('cuda' if torch.cuda.is_available() else 'cpu')"
      ],
      "metadata": {
        "id": "B5F967jW8vu0"
      },
      "execution_count": null,
      "outputs": []
    },
    {
      "cell_type": "markdown",
      "source": [
        "# 2.DATA LOADING"
      ],
      "metadata": {
        "id": "Oi2N12e6KOcc"
      }
    },
    {
      "cell_type": "code",
      "source": [
        "transform = transforms.Compose([transforms.Pad(4),transforms.RandomHorizontalFlip(),transforms.RandomCrop(32),transforms.ToTensor()])\n",
        "train_dataset = torchvision.datasets.CIFAR10(root='../../data/', train=True, transform=transform,download=True)\n",
        "test_dataset = torchvision.datasets.CIFAR10(root='../../data/',train=False, transform=transforms.ToTensor())"
      ],
      "metadata": {
        "colab": {
          "base_uri": "https://localhost:8080/",
          "height": 104,
          "referenced_widgets": [
            "5812321371a044aea333c4e68d572809",
            "63ac16bda8ef4b7db191bac22258b0cc",
            "ed742a351f1349669375d179a3e40c7e",
            "d40c7a4f38154135bd18aaff69edacf2",
            "decbb8355cf24ef494d4fa4f3295e7d1",
            "68a72be4127947c9a95abe83e072ac01",
            "77011af57cc84246b318d5e46d6f29ed",
            "bdc6acf1ffba483c8e0bd59917c521c2",
            "4f3052086136432b9fe27bbb0f519d8a",
            "da889ee1235e459794dbaac14780884e",
            "75eddaa10c53461290f2c9f4bbed290a"
          ]
        },
        "id": "Kl6kGee-8vsD",
        "outputId": "fcaacdae-b324-4324-e0a5-0a7f35de70c7"
      },
      "execution_count": null,
      "outputs": [
        {
          "output_type": "stream",
          "name": "stdout",
          "text": [
            "Downloading https://www.cs.toronto.edu/~kriz/cifar-10-python.tar.gz to ../../data/cifar-10-python.tar.gz\n"
          ]
        },
        {
          "output_type": "display_data",
          "data": {
            "text/plain": [
              "  0%|          | 0/170498071 [00:00<?, ?it/s]"
            ],
            "application/vnd.jupyter.widget-view+json": {
              "version_major": 2,
              "version_minor": 0,
              "model_id": "5812321371a044aea333c4e68d572809"
            }
          },
          "metadata": {}
        },
        {
          "output_type": "stream",
          "name": "stdout",
          "text": [
            "Extracting ../../data/cifar-10-python.tar.gz to ../../data/\n"
          ]
        }
      ]
    },
    {
      "cell_type": "code",
      "source": [
        "train_dataset, val_dataset= random_split(train_dataset,(45000,5000))"
      ],
      "metadata": {
        "id": "9g9R8Yfq8vpw"
      },
      "execution_count": null,
      "outputs": []
    },
    {
      "cell_type": "code",
      "source": [
        "train_loader = DataLoader(dataset=train_dataset,batch_size=100, shuffle=True)\n",
        "val_loader = DataLoader(dataset=val_dataset,batch_size=100, shuffle=True) \n",
        "test_loader = DataLoader(dataset=test_dataset,batch_size=100, shuffle=False)"
      ],
      "metadata": {
        "id": "ZAGZfC4A8vnS"
      },
      "execution_count": null,
      "outputs": []
    },
    {
      "cell_type": "markdown",
      "source": [
        "# 3. BUILDING RESNET ARCHITECTURE"
      ],
      "metadata": {
        "id": "xiCcnMB_KXuC"
      }
    },
    {
      "cell_type": "markdown",
      "source": [
        "#3.1 RESIDUAL BLOCK"
      ],
      "metadata": {
        "id": "LO-M6I3MKdvM"
      }
    },
    {
      "cell_type": "code",
      "source": [
        "def conv3x3(in_channels, out_channels, stride=1):\n",
        "    return nn.Conv2d(in_channels, out_channels, kernel_size=3, stride=stride, padding=1, bias=False)"
      ],
      "metadata": {
        "id": "fJx2LmL6PO1M"
      },
      "execution_count": null,
      "outputs": []
    },
    {
      "cell_type": "code",
      "source": [
        "class ResidualBlock(nn.Module):\n",
        "    def __init__(self, input_channels, output_channels, stride=1, downsample=None):\n",
        "        super(ResidualBlock, self).__init__()\n",
        "        self.conv1 = conv3x3(input_channels, output_channels, stride)\n",
        "        self.bn1 = nn.BatchNorm2d(output_channels)\n",
        "        self.relu = nn.ReLU(inplace=True)\n",
        "        self.conv2 = conv3x3(output_channels, output_channels)\n",
        "        self.bn2 = nn.BatchNorm2d(output_channels)\n",
        "        self.downsample = downsample\n",
        "\n",
        "    def forward(self, x):\n",
        "        residual = x\n",
        "        output = self.conv1(x)\n",
        "        output = self.bn1(output)\n",
        "        output = self.relu(output)\n",
        "        output = self.conv2(output)\n",
        "        output = self.bn2(output)\n",
        "        if self.downsample:\n",
        "            residual = self.downsample(x)\n",
        "        output += residual\n",
        "        output = self.relu(output)\n",
        "        return output"
      ],
      "metadata": {
        "id": "eGx7xToT8ST1"
      },
      "execution_count": null,
      "outputs": []
    },
    {
      "cell_type": "markdown",
      "source": [
        "#3.2 CREATING AND ADDING THE LAYERS"
      ],
      "metadata": {
        "id": "dmcvp76GKhgH"
      }
    },
    {
      "cell_type": "code",
      "source": [
        "class Resnet(nn.Module):\n",
        "    def __init__(self, block, layers, num_classes=10):\n",
        "        super(Resnet, self).__init__()\n",
        "        self.input_channels = 16\n",
        "        self.conv = conv3x3(3, 16)\n",
        "        self.bn = nn.BatchNorm2d(16)\n",
        "        self.relu = nn.ReLU(inplace=True)\n",
        "        self.layer1 = self.make_layer(block, 16, layers[0])\n",
        "        self.layer2 = self.make_layer(block, 32, layers[1], 2)\n",
        "        self.layer3 = self.make_layer(block, 64, layers[2], 2)\n",
        "        self.avg_pool = nn.AvgPool2d(8)\n",
        "        self.fc = nn.Linear(64, num_classes)\n",
        "\n",
        "    def make_layer(self, block, output_channels, blocks, stride=1):\n",
        "        downsample = None\n",
        "        if (stride != 1) or (self.input_channels != output_channels):\n",
        "           downsample = nn.Sequential(conv3x3(self.input_channels, output_channels, stride=stride),nn.BatchNorm2d(output_channels))\n",
        "        layers = []\n",
        "        layers.append(block(self.input_channels, output_channels, stride, downsample))\n",
        "        self.input_channels = output_channels\n",
        "        for i in range(1, blocks):\n",
        "            layers.append(block(output_channels, output_channels))\n",
        "        return nn.Sequential(*layers)\n",
        "\n",
        "    def forward(self, x):\n",
        "        output = self.conv(x)\n",
        "        output = self.bn(output)\n",
        "        output = self.relu(output)\n",
        "        output = self.layer1(output)\n",
        "        output = self.layer2(output)\n",
        "        output = self.layer3(output)\n",
        "        output = self.avg_pool(output)\n",
        "        output = output.view(output.size(0), -1)\n",
        "        output = self.fc(output)\n",
        "        return output"
      ],
      "metadata": {
        "id": "pkyfPuUE8YFb"
      },
      "execution_count": null,
      "outputs": []
    },
    {
      "cell_type": "markdown",
      "source": [
        "#4.DEFINING HYPERPARAMS"
      ],
      "metadata": {
        "id": "B-BpgwAPKobk"
      }
    },
    {
      "cell_type": "code",
      "source": [
        "num_epochs = 20\n",
        "learning_rate = 0.001\n",
        "\n",
        "model = Resnet(ResidualBlock, [2, 2, 2]).to(device)\n",
        "\n",
        "# loss and optimizer\n",
        "criterion = nn.CrossEntropyLoss()\n",
        "optimizer = torch.optim.Adam(model.parameters(), lr=learning_rate)\n",
        "\n",
        "total_step = len(train_loader)"
      ],
      "metadata": {
        "id": "C1sAXTWw8smr"
      },
      "execution_count": null,
      "outputs": []
    },
    {
      "cell_type": "markdown",
      "source": [
        "#5.TRAINING MODEL"
      ],
      "metadata": {
        "id": "r6OwfY-pK0hA"
      }
    },
    {
      "cell_type": "code",
      "source": [
        "train_costs,val_costs,train_acc,val_acc=[],[],[],[]\n",
        "\n",
        "labels_train=[]\n",
        "\n",
        "for epoch in range(num_epochs):\n",
        "\n",
        "    train_correct=0\n",
        "    train_running_loss=0\n",
        "    for i, (images, labels) in enumerate(train_loader):\n",
        "\n",
        "        images = images.to(device)\n",
        "        labels = labels.to(device)\n",
        "     \n",
        "        # Forward pass\n",
        "        outputs = model(images)\n",
        "        loss = criterion(outputs, labels)\n",
        "\n",
        "        # Backward and optimize\n",
        "        optimizer.zero_grad()\n",
        "        loss.backward()\n",
        "        optimizer.step()\n",
        "\n",
        "\n",
        "        _, predicted = torch.max(outputs.data, 1)\n",
        "        train_correct += (predicted==labels).float().sum().item()\n",
        "        train_running_loss +=(loss.data.item()*images.shape[0])\n",
        " \n",
        "    # training loss and accuracy calculation\n",
        "    train_epoch_loss= train_running_loss/len(train_dataset)\n",
        "    train_costs.append(train_epoch_loss)\n",
        "    train_accuracy=train_correct/len(train_dataset)\n",
        "    train_acc.append(train_accuracy)\n",
        "\n",
        "    val_correct=0\n",
        "    val_running_loss=0\n",
        "    model.eval()\n",
        "    with torch.no_grad():\n",
        "        for i, (images, labels) in enumerate(val_loader):\n",
        "          images = images.to(device)\n",
        "          labels = labels.to(device)\n",
        "\n",
        "        # Forward pass\n",
        "          outputs = model(images)\n",
        "          loss = criterion(outputs, labels)\n",
        "\n",
        "\n",
        "          _, predicted = torch.max(outputs.data, 1)\n",
        "          val_correct += (predicted==labels).float().sum().item()\n",
        "          val_running_loss +=(loss.data.item()*images.shape[0])\n",
        "\n",
        "   \n",
        "        # validation loss and accuracy calculation\n",
        "        val_epoch_loss= val_running_loss/len(val_dataset)\n",
        "        val_costs.append(val_epoch_loss)\n",
        "        val_accuracy=val_correct/len(val_dataset)\n",
        "        val_acc.append(val_accuracy)\n",
        "\n",
        "\n",
        "\n",
        "\n",
        "    \n",
        "    print (\"Epoch [{}/{}],  train_epoch_Loss: {:.4f}, val_epoch_loss: {:.4f}, train_accuracy: {:.4f}, val_accuracy: {:.4f}\".format(epoch+1, num_epochs, train_epoch_loss,val_epoch_loss,train_accuracy,val_accuracy ))\n",
        " "
      ],
      "metadata": {
        "colab": {
          "base_uri": "https://localhost:8080/"
        },
        "id": "uafoYo019kO8",
        "outputId": "e1f92840-3071-4ad7-8d01-bc66384f334d"
      },
      "execution_count": null,
      "outputs": [
        {
          "output_type": "stream",
          "name": "stdout",
          "text": [
            "Epoch [1/20],  train_epoch_Loss: 1.4598, val_epoch_loss: 1.2919, train_accuracy: 0.4628, val_accuracy: 0.5216\n",
            "Epoch [2/20],  train_epoch_Loss: 1.9418, val_epoch_loss: 1.7346, train_accuracy: 0.2721, val_accuracy: 0.3596\n",
            "Epoch [3/20],  train_epoch_Loss: 1.5320, val_epoch_loss: 1.3740, train_accuracy: 0.4316, val_accuracy: 0.4836\n",
            "Epoch [4/20],  train_epoch_Loss: 1.2984, val_epoch_loss: 1.2090, train_accuracy: 0.5231, val_accuracy: 0.5676\n",
            "Epoch [5/20],  train_epoch_Loss: 1.1569, val_epoch_loss: 1.0823, train_accuracy: 0.5773, val_accuracy: 0.6114\n",
            "Epoch [6/20],  train_epoch_Loss: 1.0551, val_epoch_loss: 1.0297, train_accuracy: 0.6178, val_accuracy: 0.6266\n",
            "Epoch [7/20],  train_epoch_Loss: 0.9899, val_epoch_loss: 0.9657, train_accuracy: 0.6418, val_accuracy: 0.6590\n",
            "Epoch [8/20],  train_epoch_Loss: 0.9330, val_epoch_loss: 0.9047, train_accuracy: 0.6644, val_accuracy: 0.6746\n",
            "Epoch [9/20],  train_epoch_Loss: 0.8731, val_epoch_loss: 0.8778, train_accuracy: 0.6875, val_accuracy: 0.6898\n",
            "Epoch [10/20],  train_epoch_Loss: 0.8352, val_epoch_loss: 0.7899, train_accuracy: 0.7038, val_accuracy: 0.7204\n",
            "Epoch [11/20],  train_epoch_Loss: 0.7917, val_epoch_loss: 0.7646, train_accuracy: 0.7236, val_accuracy: 0.7294\n",
            "Epoch [12/20],  train_epoch_Loss: 0.7457, val_epoch_loss: 0.7154, train_accuracy: 0.7396, val_accuracy: 0.7480\n",
            "Epoch [13/20],  train_epoch_Loss: 0.7124, val_epoch_loss: 0.7832, train_accuracy: 0.7513, val_accuracy: 0.7250\n",
            "Epoch [14/20],  train_epoch_Loss: 0.6902, val_epoch_loss: 0.7081, train_accuracy: 0.7574, val_accuracy: 0.7482\n",
            "Epoch [15/20],  train_epoch_Loss: 0.6600, val_epoch_loss: 0.7052, train_accuracy: 0.7686, val_accuracy: 0.7594\n",
            "Epoch [16/20],  train_epoch_Loss: 0.6309, val_epoch_loss: 0.6534, train_accuracy: 0.7799, val_accuracy: 0.7710\n",
            "Epoch [17/20],  train_epoch_Loss: 0.6144, val_epoch_loss: 0.6587, train_accuracy: 0.7859, val_accuracy: 0.7658\n",
            "Epoch [18/20],  train_epoch_Loss: 0.5907, val_epoch_loss: 0.6178, train_accuracy: 0.7954, val_accuracy: 0.7860\n",
            "Epoch [19/20],  train_epoch_Loss: 0.5722, val_epoch_loss: 0.6356, train_accuracy: 0.8015, val_accuracy: 0.7862\n",
            "Epoch [20/20],  train_epoch_Loss: 0.5564, val_epoch_loss: 0.5984, train_accuracy: 0.8048, val_accuracy: 0.7930\n"
          ]
        }
      ]
    },
    {
      "cell_type": "markdown",
      "source": [
        "#6.TESTING MODEL"
      ],
      "metadata": {
        "id": "q51rJZwtLFDr"
      }
    },
    {
      "cell_type": "code",
      "source": [
        "model.eval()\n",
        "y_true,y_pred=[],[]\n",
        "with torch.no_grad():\n",
        "\n",
        "    test_correct = 0\n",
        "    test_total = 0\n",
        "\n",
        "    for images, labels in test_loader:\n",
        "        y_true.extend(labels.numpy())\n",
        "        images = images.to(device)\n",
        "        labels = labels.to(device)\n",
        "\n",
        "        outputs = model(images)\n",
        "\n",
        "        _, predicted = torch.max(outputs.data, 1)\n",
        "        y_pred.extend(predicted.cpu().numpy())\n",
        "\n",
        "        test_total += labels.size(0)\n",
        "        test_correct += (predicted == labels).sum().item()\n",
        "\n",
        "    print('Accuracy of this model on the test images: {} %'.format(100 * test_correct / test_total))"
      ],
      "metadata": {
        "colab": {
          "base_uri": "https://localhost:8080/"
        },
        "id": "f1MAPAJ0_6bx",
        "outputId": "6208896c-e856-49ae-d4f8-d2d518d54b1b"
      },
      "execution_count": null,
      "outputs": [
        {
          "output_type": "stream",
          "name": "stdout",
          "text": [
            "Accuracy of this model on the test images: 79.95 %\n"
          ]
        }
      ]
    },
    {
      "cell_type": "markdown",
      "source": [
        "#7.GRAPHICAL INSIGHTS"
      ],
      "metadata": {
        "id": "WOChmQtOLpVt"
      }
    },
    {
      "cell_type": "code",
      "source": [
        "plt.figure(figsize=(9,9))\n",
        "\n",
        "plt.title(\"Training and Validation Loss\")\n",
        "plt.plot(val_costs,label=\"validation\")\n",
        "plt.plot(train_costs,label=\"training\")\n",
        "\n",
        "plt.xlabel(\"Iterations\")\n",
        "plt.ylabel(\"Loss\")\n",
        "plt.legend()\n",
        "plt.show()"
      ],
      "metadata": {
        "colab": {
          "base_uri": "https://localhost:8080/",
          "height": 567
        },
        "id": "43S-T_fnA6F3",
        "outputId": "75e9c12e-1664-4c04-95d5-ef476c2d885c"
      },
      "execution_count": null,
      "outputs": [
        {
          "output_type": "display_data",
          "data": {
            "text/plain": [
              "<Figure size 648x648 with 1 Axes>"
            ],
            "image/png": "[encoded data removed]"
          },
          "metadata": {
            "needs_background": "light"
          }
        }
      ]
    },
    {
      "cell_type": "code",
      "source": [
        "plt.figure(figsize=(9,9))\n",
        "\n",
        "plt.title(\"Training and Validation accuracy\")\n",
        "\n",
        "plt.plot(val_acc,label=\"validation\")\n",
        "plt.plot(train_acc,label=\"training\")\n",
        "plt.xlabel(\"Iterations\")\n",
        "plt.ylabel(\"Accuracy\")\n",
        "\n",
        "plt.legend()\n",
        "plt.show()"
      ],
      "metadata": {
        "colab": {
          "base_uri": "https://localhost:8080/",
          "height": 567
        },
        "id": "B1xwBke-Bd4C",
        "outputId": "81016738-facd-4be6-8042-72dee71fc413"
      },
      "execution_count": null,
      "outputs": [
        {
          "output_type": "display_data",
          "data": {
            "text/plain": [
              "<Figure size 648x648 with 1 Axes>"
            ],
            "image/png": "[encoded data removed]"
          },
          "metadata": {
            "needs_background": "light"
          }
        }
      ]
    },
    {
      "cell_type": "code",
      "source": [
        "from sklearn.metrics import confusion_matrix,roc_curve\n",
        "import seaborn as sns\n",
        "import matplotlib.pyplot as plt\n",
        "%matplotlib inline"
      ],
      "metadata": {
        "id": "sVGsFXQDBha4"
      },
      "execution_count": null,
      "outputs": []
    },
    {
      "cell_type": "code",
      "source": [
        "plt.figure(figsize=(10,10))\n",
        "cm=confusion_matrix(y_true,y_pred)\n",
        "sns.heatmap(cm,annot=True,fmt='d')"
      ],
      "metadata": {
        "id": "MFe6lsO2BowG",
        "outputId": "17565d57-eecf-4893-b4ec-193d8a63cb7e",
        "colab": {
          "base_uri": "https://localhost:8080/",
          "height": 609
        }
      },
      "execution_count": null,
      "outputs": [
        {
          "output_type": "execute_result",
          "data": {
            "text/plain": [
              "<matplotlib.axes._subplots.AxesSubplot at 0x7ff64e0a6550>"
            ]
          },
          "metadata": {},
          "execution_count": 45
        },
        {
          "output_type": "display_data",
          "data": {
            "text/plain": [
              "<Figure size 720x720 with 2 Axes>"
            ],
            "image/png": "[encoded data removed]"
          },
          "metadata": {
            "needs_background": "light"
          }
        }
      ]
    },
    {
      "cell_type": "code",
      "source": [],
      "metadata": {
        "id": "ASTVwk0pBpdy"
      },
      "execution_count": null,
      "outputs": []
    }
  ]
}